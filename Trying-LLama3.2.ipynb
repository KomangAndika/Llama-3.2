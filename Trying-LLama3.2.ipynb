{
 "cells": [
  {
   "cell_type": "code",
   "execution_count": 1,
   "id": "5a5274a6",
   "metadata": {},
   "outputs": [],
   "source": [
    "from langchain_openai import ChatOpenAI\n",
    "from langchain_core.prompts import PromptTemplate\n",
    "import getpass\n",
    "import os"
   ]
  },
  {
   "cell_type": "code",
   "execution_count": 2,
   "id": "b16a6d35",
   "metadata": {},
   "outputs": [
    {
     "name": "stdout",
     "output_type": "stream",
     "text": [
      "········\n"
     ]
    }
   ],
   "source": [
    "os.environ[\"OPENAI_API_KEY\"] = getpass.getpass()"
   ]
  },
  {
   "cell_type": "markdown",
   "id": "28116f14",
   "metadata": {},
   "source": [
    "I want to test it to summarize a financial news: https://finance.yahoo.com/news/breaking-down-intels-wild-week-204638857.html"
   ]
  },
  {
   "cell_type": "code",
   "execution_count": 13,
   "id": "3a88fd46",
   "metadata": {},
   "outputs": [],
   "source": [
    "full_text = \"\"\"\n",
    "Intel (INTC) is in the midst of one of the most tumultuous periods in its 56-year history. Declining sales, missed opportunities to compete in the AI space, and a massive turnaround effort by CEO Pat Gelsinger looking to return the company to its former glory are putting significant pressure on the chip giant’s bottom line and share price.\n",
    "\n",
    "And things for the company are only getting more interesting.\n",
    "\n",
    "Last Monday, Intel announced that it signed a deal with Amazon (AMZN) to build custom chips for Amazon Web Services, a positive sign for the company’s nascent third-party foundry business.\n",
    "\n",
    "Then, on Friday, the Wall Street Journal reported that Qualcomm (QCOM) reached out to Intel about a blockbuster takeover deal that would give Qualcomm a larger foothold in the PC and AI spaces. That’s not all. On Sunday, Bloomberg reported that Apollo Global Management (APO) has offered to make a multibillion-dollar investment in Intel to keep Gelsinger’s turnaround moving forward. (Disclosure: Yahoo Finance is owned by Apollo Global Management.)\n",
    "\n",
    "It’s a lot to follow and even more to make any sense of. Luckily, I’m here to help break it all down for you.\n",
    "\n",
    "Intel’s slowing sales and AI troubles\n",
    "Intel is dealing with sliding sales and the unenviable position of having to take on market leader Nvidia in the AI space. For 2023, Intel reported full-year revenue of $54.2 billion, a 14% year-over-year decline from the $63.1 billion the company saw in 2022.\n",
    "\n",
    "That included an 8% decline in Intel’s Client Computing Group, which sells chips for PCs; a 20% drop in Data Center and AI revenue; and a 31% decrease in Network and Edge sales. Intel did, however, report a 103% increase in its Intel Foundry Services, but that amounted to just $952 million.\n",
    "Part of Intel’s woes have stemmed from the fact that the explosion in PC sales at the onset of the pandemic pulled Client Computing Group revenue forward several quarters, creating a boom and bust. Consumers bought new computers in droves for work and play, sending chip revenue soaring. But millions of consumers don’t usually buy new PCs at the same time. With so many people holding new computers, there were fewer consumers looking for upgrades, and sales entered an extended slump that sent shipments plummeting for eight consecutive quarters.\n",
    "\n",
    "Sales are picking up again, though. In July, IDC said the PC market grew 3% in the second quarter, notching a second consecutive quarter of growth. But the industry still has a way to go.\n",
    "\n",
    "At the same time, Intel is facing a new threat from Qualcomm, which began offering its Snapdragon X Elite and X Plus chips in Windows PCs earlier this year as an alternative to Intel’s processors. Those chips provide improved performance and power versus Intel’s older offerings and are meant to compete with Apple’s (AAPL) exceptional M family of chips that power its MacBooks.\n",
    "\n",
    "Intel is fighting back, though. Earlier this month, the company showed off its Core Ultra 200V line of processors that it says can outpace Qualcomm’s chips.\n",
    "\n",
    "Flagging PC sales also impacted graphics giant Nvidia (NVDA), which saw sales of its video game graphics chips deteriorate after the pandemic boom. But the company, unlike Intel, has managed to exploit its early investments in AI to take advantage of the surge in interest caused by the debut of OpenAI’s ChatGPT in November 2022.\n",
    "\n",
    "That helped catapult Nvidia to the forefront of the semiconductor industry and sent its stock to extraordinary new heights, rising more than 860% over the last two years and 191% in the last 12 months.\n",
    "\n",
    "Intel is working to try to catch Nvidia with its own Gaudi line of AI accelerators. On Tuesday, the company debuted its latest Gaudi 3 AI accelerator and announced that IBM will use it as part of its IBM Cloud offering.\n",
    "\n",
    "But with Gartner estimating that Nvidia controls more than 70% of AI chip sales, it’s an uphill battle.\n",
    "Intel’s foundry services\n",
    "Intel is also battling for position as a chip manufacturer for third-party clients. The plan is for the company’s foundry business to operate as a subsidiary of Intel that builds processors for customers looking for an alternative to TSMC, which is among the world’s largest chipmakers\n",
    "\n",
    "But the buildout is costly and Wall Street isn’t completely sold on the idea. Analysts at Citi Research have said Intel should exit the foundry business altogether so that it can improve margins and earnings per share.\n",
    "\n",
    "In September, however, Intel announced a multibillion-dollar deal to \"produce an AI fabric chip for AWS on Intel 18A, the company’s most advanced process node.\" The company is also set to build a custom version of its Xeon 6 chip for Amazon.\n",
    "\n",
    "The news comes after Intel announced that Microsoft signed on as a manufacturing customer in February. Two big-name companies are certainly a start for Intel, but it’s going to need to sign a slew of customers if it hopes to grow its manufacturing segment to match competing chip fabricators.\n",
    "\n",
    "Qualcomm and Apollo\n",
    "Intel’s PC and AI woes have left it as a potential takeover target, which is where Qualcomm and Apollo enter the mix. Qualcomm, according to the Wall Street Journal, wants to buy up Intel, though it’s unclear if the company would hold on to all of Intel or sell portions of its business segments. The deal is also sure to generate plenty of antitrust concerns, as the companies are two of the most important chip firms in the US.\n",
    "\n",
    "Apollo, meanwhile, looks to favor Gelsinger’s plans and could invest up to $5 billion in Intel to follow through with the effort, Bloomberg reports.\n",
    "\n",
    "Now investors will have to wait and see whether Intel moves forward with either company or continues to try to go it alone.\n",
    "\"\"\""
   ]
  },
  {
   "cell_type": "markdown",
   "id": "a701e7de",
   "metadata": {},
   "source": [
    "## Llama 3.2 1B and 3B"
   ]
  },
  {
   "cell_type": "markdown",
   "id": "abf6270c",
   "metadata": {},
   "source": [
    "Both the 1B and 3B versions are made for mobile or simple task like summarizing, considering their small sizes"
   ]
  },
  {
   "cell_type": "code",
   "execution_count": 14,
   "id": "18823e82",
   "metadata": {},
   "outputs": [],
   "source": [
    "llama_1B = ChatOpenAI(\n",
    "    base_url=\"https://api.together.xyz/v1\",\n",
    "    model=\"meta-llama/Llama-Vision-Free\",\n",
    ")\n",
    "llama_3B = ChatOpenAI(\n",
    "    base_url=\"https://api.together.xyz/v1\",\n",
    "    model=\"meta-llama/Llama-3.2-3B-Instruct-Turbo\",\n",
    ")"
   ]
  },
  {
   "cell_type": "code",
   "execution_count": 15,
   "id": "8b664cb6",
   "metadata": {},
   "outputs": [],
   "source": [
    "template = \"\"\"\n",
    "Please summarize this text:\n",
    "<text>\n",
    "{full_text}\n",
    "</text>\n",
    "\"\"\""
   ]
  },
  {
   "cell_type": "code",
   "execution_count": 16,
   "id": "fb09e5e9",
   "metadata": {},
   "outputs": [],
   "source": [
    "prompt = PromptTemplate.from_template(template)"
   ]
  },
  {
   "cell_type": "code",
   "execution_count": 17,
   "id": "e5ffb520",
   "metadata": {},
   "outputs": [],
   "source": [
    "chain_1B = prompt | llama_1B\n",
    "chain_3B = prompt | llama_3B"
   ]
  },
  {
   "cell_type": "code",
   "execution_count": 18,
   "id": "7d8be43d",
   "metadata": {},
   "outputs": [],
   "source": [
    "summ_1B = chain_1B.invoke({\"full_text\":full_text})\n",
    "summ_3B = chain_3B.invoke({\"full_text\":full_text})"
   ]
  },
  {
   "cell_type": "code",
   "execution_count": 19,
   "id": "c9a79725",
   "metadata": {},
   "outputs": [
    {
     "name": "stdout",
     "output_type": "stream",
     "text": [
      "Here's a summary of the article:\n",
      "\n",
      "Intel is experiencing a tumultuous period, with declining sales, missed opportunities in the AI space, and a massive turnaround effort led by CEO Pat Gelsinger. The company's sales have been impacted by a combination of factors, including a post-pandemic boom and bust in PC sales, increased competition from Qualcomm and Apple, and a decline in revenue from its Data Center and AI business.\n",
      "\n",
      "However, Intel has recently announced some positive developments, including a deal with Amazon to build custom chips for its cloud computing services and a partnership with IBM to use its AI accelerators. The company is also trying to build its foundry services business, which involves manufacturing chips for third-party clients.\n",
      "\n",
      "Intel's struggles have made it a potential takeover target, with Qualcomm reportedly considering a massive deal to acquire the company. Additionally, Apollo Global Management has offered to invest up to $5 billion in Intel to support Gelsinger's turnaround efforts.\n",
      "\n",
      "The article highlights the challenges facing Intel, including:\n",
      "\n",
      "* Declining sales and revenue\n",
      "* Increased competition from Qualcomm and Apple\n",
      "* Missed opportunities in the AI space\n",
      "* Uncertainty around the foundry services business\n",
      "* Potential takeover risks\n",
      "\n",
      "However, it also notes that Intel has made some positive moves recently, including its deals with Amazon and IBM, and that the company has a strong leadership team in place under Gelsinger.\n"
     ]
    }
   ],
   "source": [
    "print(summ_1B.content)"
   ]
  },
  {
   "cell_type": "code",
   "execution_count": 12,
   "id": "da09b56d",
   "metadata": {},
   "outputs": [
    {
     "name": "stdout",
     "output_type": "stream",
     "text": [
      "Here's a summary of the article:\n",
      "\n",
      "Intel (INTC) is facing a challenging period, with declining sales, missed opportunities in the AI space, and a massive turnaround effort by CEO Pat Gelsinger. The company recently signed a deal with Amazon (AMZN) to build custom chips for Amazon Web Services, a positive sign for its third-party foundry business. However, Qualcomm (QCOM) has reached out to Intel about a potential takeover, and Apollo Global Management (APO) has offered to invest in Intel to help with the turnaround. \n",
      "\n",
      "Intel's sales are struggling, with a 14% decline in revenue for 2023 compared to the previous year, and a significant decline in sales of its Client Computing Group, Data Center and AI revenue, and Network and Edge sales. However, the company's Intel Foundry Services segment saw a 103% increase in revenue. The PC market is slowly recovering, with a 3% growth in the second quarter, but Intel still faces competition from Qualcomm's Snapdragon X Elite and X Plus chips.\n",
      "\n",
      "Nvidia (NVDA), a competitor in the AI space, has managed to capitalize on the surge in interest in AI technology and has seen its stock rise 860% over the last two years. Intel is trying to catch up with its own Gaudi line of AI accelerators, but it faces stiff competition from Nvidia, which controls over 70% of AI chip sales.\n"
     ]
    }
   ],
   "source": [
    "print(summ_3B.content)"
   ]
  },
  {
   "cell_type": "markdown",
   "id": "47fee7ce",
   "metadata": {},
   "source": [
    "## Llama 3.2 11B and 90B"
   ]
  },
  {
   "cell_type": "markdown",
   "id": "77cae786",
   "metadata": {},
   "source": [
    "Both Llama 3.2 11B and 90B intented use are in multimodal (text+image) so it might not be better than Llama 3.1 in this case"
   ]
  },
  {
   "cell_type": "code",
   "execution_count": 20,
   "id": "41287791",
   "metadata": {},
   "outputs": [],
   "source": [
    "llama_11B = ChatOpenAI(\n",
    "    base_url=\"https://api.together.xyz/v1\",\n",
    "    model=\"meta-llama/Llama-3.2-11B-Vision-Instruct-Turbo\",\n",
    ")\n",
    "llama_90B = ChatOpenAI(\n",
    "    base_url=\"https://api.together.xyz/v1\",\n",
    "    model=\"meta-llama/Llama-3.2-90B-Vision-Instruct-Turbo\",\n",
    ")"
   ]
  },
  {
   "cell_type": "code",
   "execution_count": 21,
   "id": "7b7f5c30",
   "metadata": {},
   "outputs": [],
   "source": [
    "chain_11B = prompt | llama_11B\n",
    "chain_90B = prompt | llama_90B"
   ]
  },
  {
   "cell_type": "code",
   "execution_count": 22,
   "id": "906c0427",
   "metadata": {},
   "outputs": [],
   "source": [
    "summ_11B = chain_11B.invoke({\"full_text\":full_text})\n",
    "summ_90B = chain_90B.invoke({\"full_text\":full_text})"
   ]
  },
  {
   "cell_type": "code",
   "execution_count": 23,
   "id": "0128d298",
   "metadata": {},
   "outputs": [
    {
     "name": "stdout",
     "output_type": "stream",
     "text": [
      "Here's a summary of the article:\n",
      "\n",
      "Intel is facing a tumultuous period, with declining sales, missed opportunities in the AI space, and a massive turnaround effort by CEO Pat Gelsinger. The company's struggles have been exacerbated by the decline of PC sales, which has impacted its Client Computing Group, and the rise of competitors in the AI space, particularly Nvidia. However, Intel has recently announced a deal with Amazon to build custom chips for Amazon Web Services, a positive sign for its foundry business.\n",
      "\n",
      "Meanwhile, Qualcomm has reportedly reached out to Intel about a potential takeover deal that would give Qualcomm a larger foothold in the PC and AI spaces. Apollo Global Management has also offered to invest up to $5 billion in Intel to help Gelsinger's turnaround efforts.\n",
      "\n",
      "Intel is also working to expand its foundry business, which has shown promise with recent deals with Microsoft and Amazon. However, analysts are skeptical about the feasibility of this business, and some are urging Intel to exit the foundry business altogether.\n",
      "\n",
      "The article concludes that Intel's future is uncertain, and investors will be watching to see whether the company will move forward with Qualcomm's takeover offer, Apollo's investment, or continue to try to go it alone.\n"
     ]
    }
   ],
   "source": [
    "print(summ_11B.content)"
   ]
  },
  {
   "cell_type": "code",
   "execution_count": 24,
   "id": "2470a0c9",
   "metadata": {},
   "outputs": [
    {
     "name": "stdout",
     "output_type": "stream",
     "text": [
      "Here's a summary of the article about Intel's current situation:\n",
      "\n",
      "Intel is facing significant challenges, including declining sales, missed opportunities in the AI space, and increased competition from Nvidia and Qualcomm. The company's revenue declined by 14% in 2023, with its Client Computing Group (PC chips) down 8%, Data Center and AI revenue down 20%, and Network and Edge sales down 31%. However, its Intel Foundry Services saw a 103% increase, albeit from a small base.\n",
      "\n",
      "Intel is trying to turn things around with its Core Ultra 200V processors and Gaudi line of AI accelerators, but it faces an uphill battle against Nvidia, which controls over 70% of the AI chip market. Intel is also investing heavily in its foundry business, which aims to build processors for third-party clients, including Amazon and Microsoft.\n",
      "\n",
      "The company is also a potential takeover target, with Qualcomm reportedly considering a blockbuster deal to acquire Intel. However, this would likely raise antitrust concerns. Meanwhile, Apollo Global Management has offered to invest up to $5 billion in Intel to support CEO Pat Gelsinger's turnaround efforts.\n",
      "\n",
      "Overall, Intel is at a crossroads, and its future direction will depend on its ability to execute on its turnaround plans, compete with rivals, and navigate the challenges of the rapidly evolving tech landscape.\n"
     ]
    }
   ],
   "source": [
    "print(summ_90B.content)"
   ]
  },
  {
   "cell_type": "markdown",
   "id": "a42f6f11",
   "metadata": {},
   "source": [
    "Cool"
   ]
  }
 ],
 "metadata": {
  "kernelspec": {
   "display_name": "Python 3 (ipykernel)",
   "language": "python",
   "name": "python3"
  },
  "language_info": {
   "codemirror_mode": {
    "name": "ipython",
    "version": 3
   },
   "file_extension": ".py",
   "mimetype": "text/x-python",
   "name": "python",
   "nbconvert_exporter": "python",
   "pygments_lexer": "ipython3",
   "version": "3.9.12"
  }
 },
 "nbformat": 4,
 "nbformat_minor": 5
}
